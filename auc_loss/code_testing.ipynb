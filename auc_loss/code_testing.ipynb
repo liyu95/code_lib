{
 "cells": [
  {
   "cell_type": "code",
   "execution_count": 1,
   "metadata": {
    "collapsed": false
   },
   "outputs": [],
   "source": [
    "from auc_loss import auc_loss"
   ]
  },
  {
   "cell_type": "code",
   "execution_count": 2,
   "metadata": {
    "collapsed": true
   },
   "outputs": [],
   "source": [
    "from sklearn.datasets import make_classification\n",
    "import matplotlib.pyplot as plt\n",
    "from sklearn.linear_model import LogisticRegression\n",
    "import sklearn\n",
    "import numpy as np\n",
    "\n",
    "X,y = make_classification(100, 2, 2, 0, flip_y=0.1)\n",
    "model = LogisticRegression()\n",
    "model.fit(X,y)\n",
    "y_pred = model.predict_proba(X)\n",
    "\n",
    "auc = sklearn.metrics.roc_auc_score(y, y_pred[:,1])\n",
    "\n",
    "D0 = np.where(y==0)[0]; D1= np.where(y==1)[0]"
   ]
  },
  {
   "cell_type": "code",
   "execution_count": null,
   "metadata": {
    "collapsed": false,
    "scrolled": false
   },
   "outputs": [],
   "source": [
    "auc_pro = auc_loss(y_pred[:,1], D0, D1)"
   ]
  }
 ],
 "metadata": {
  "kernelspec": {
   "display_name": "Python 2",
   "language": "python",
   "name": "python2"
  },
  "language_info": {
   "codemirror_mode": {
    "name": "ipython",
    "version": 2
   },
   "file_extension": ".py",
   "mimetype": "text/x-python",
   "name": "python",
   "nbconvert_exporter": "python",
   "pygments_lexer": "ipython2",
   "version": "2.7.11"
  }
 },
 "nbformat": 4,
 "nbformat_minor": 2
}
